{
 "cells": [
  {
   "cell_type": "code",
   "execution_count": 1,
   "metadata": {},
   "outputs": [],
   "source": [
    "age = 42\n",
    "first_name = 'Ahmed'\n",
    "last_name = 'Simpson'"
   ]
  },
  {
   "cell_type": "code",
   "execution_count": 2,
   "metadata": {},
   "outputs": [
    {
     "name": "stdout",
     "output_type": "stream",
     "text": [
      "Ahmed is 42 years old\n",
      "Simpson\n"
     ]
    }
   ],
   "source": [
    "print(first_name, 'is', age, 'years old')\n",
    "print(last_name)"
   ]
  },
  {
   "cell_type": "code",
   "execution_count": 3,
   "metadata": {},
   "outputs": [
    {
     "name": "stdout",
     "output_type": "stream",
     "text": [
      "45\n"
     ]
    }
   ],
   "source": [
    "age = age +3\n",
    "print (age)"
   ]
  },
  {
   "cell_type": "code",
   "execution_count": 4,
   "metadata": {},
   "outputs": [],
   "source": [
    "count = 0"
   ]
  },
  {
   "cell_type": "code",
   "execution_count": 5,
   "metadata": {},
   "outputs": [
    {
     "name": "stdout",
     "output_type": "stream",
     "text": [
      "1\n"
     ]
    }
   ],
   "source": [
    "count = count +1\n",
    "print(count)\n"
   ]
  },
  {
   "cell_type": "code",
   "execution_count": 6,
   "metadata": {},
   "outputs": [
    {
     "name": "stdout",
     "output_type": "stream",
     "text": [
      "hel\n"
     ]
    }
   ],
   "source": [
    "atom_name = 'helium'\n",
    "print(atom_name [0:3])"
   ]
  },
  {
   "cell_type": "code",
   "execution_count": 7,
   "metadata": {},
   "outputs": [
    {
     "name": "stdout",
     "output_type": "stream",
     "text": [
      "6\n"
     ]
    }
   ],
   "source": [
    "print(len(atom_name))"
   ]
  },
  {
   "cell_type": "code",
   "execution_count": 8,
   "metadata": {},
   "outputs": [
    {
     "name": "stdout",
     "output_type": "stream",
     "text": [
      "atom_name[1:3] is: ar\n"
     ]
    }
   ],
   "source": [
    "#non-inclusive in front the:   ;  inclusive after.\n",
    "atom_name = 'carbon'\n",
    "print('atom_name[1:3] is:', atom_name[1:3])"
   ]
  },
  {
   "cell_type": "code",
   "execution_count": 9,
   "metadata": {},
   "outputs": [
    {
     "name": "stdout",
     "output_type": "stream",
     "text": [
      "<class 'int'>\n"
     ]
    }
   ],
   "source": [
    "print(type(52))"
   ]
  },
  {
   "cell_type": "code",
   "execution_count": 10,
   "metadata": {},
   "outputs": [
    {
     "name": "stdout",
     "output_type": "stream",
     "text": [
      "<class 'str'>\n"
     ]
    }
   ],
   "source": [
    "fitness = 'average'\n",
    "print(type(fitness))"
   ]
  },
  {
   "cell_type": "code",
   "execution_count": 11,
   "metadata": {},
   "outputs": [
    {
     "name": "stdout",
     "output_type": "stream",
     "text": [
      "<class 'float'>\n"
     ]
    }
   ],
   "source": [
    "print(type(2.4))"
   ]
  },
  {
   "cell_type": "code",
   "execution_count": 12,
   "metadata": {},
   "outputs": [
    {
     "name": "stdout",
     "output_type": "stream",
     "text": [
      "2\n"
     ]
    }
   ],
   "source": [
    "print (5-3)"
   ]
  },
  {
   "cell_type": "code",
   "execution_count": 13,
   "metadata": {},
   "outputs": [
    {
     "name": "stdout",
     "output_type": "stream",
     "text": [
      "AhmedWalshWalshWalshWalshWalshWalshWalshWalshWalshWalsh\n",
      "AhmedWalshAhmedWalshAhmedWalshAhmedWalshAhmedWalshAhmedWalshAhmedWalshAhmedWalshAhmedWalshAhmedWalsh\n"
     ]
    }
   ],
   "source": [
    "full_name = 'Ahmed' + '' +  'Walsh' *10\n",
    "print(full_name)\n",
    "full_name = ('Ahmed' + '' +  'Walsh') *10\n",
    "print(full_name)"
   ]
  },
  {
   "cell_type": "code",
   "execution_count": 14,
   "metadata": {},
   "outputs": [
    {
     "name": "stdout",
     "output_type": "stream",
     "text": [
      "100\n"
     ]
    }
   ],
   "source": [
    "print(len(full_name))"
   ]
  },
  {
   "cell_type": "code",
   "execution_count": 15,
   "metadata": {},
   "outputs": [
    {
     "ename": "TypeError",
     "evalue": "object of type 'int' has no len()",
     "output_type": "error",
     "traceback": [
      "\u001b[0;31m---------------------------------------------------------------------------\u001b[0m",
      "\u001b[0;31mTypeError\u001b[0m                                 Traceback (most recent call last)",
      "\u001b[0;32m<ipython-input-15-4e14a1b63bc9>\u001b[0m in \u001b[0;36m<module>\u001b[0;34m()\u001b[0m\n\u001b[0;32m----> 1\u001b[0;31m \u001b[0mprint\u001b[0m\u001b[0;34m(\u001b[0m\u001b[0mlen\u001b[0m\u001b[0;34m(\u001b[0m\u001b[0;36m10\u001b[0m\u001b[0;34m)\u001b[0m\u001b[0;34m)\u001b[0m\u001b[0;34m\u001b[0m\u001b[0m\n\u001b[0m",
      "\u001b[0;31mTypeError\u001b[0m: object of type 'int' has no len()"
     ]
    }
   ],
   "source": [
    "print(len(10))"
   ]
  },
  {
   "cell_type": "code",
   "execution_count": null,
   "metadata": {},
   "outputs": [],
   "source": [
    "print?"
   ]
  },
  {
   "cell_type": "code",
   "execution_count": 31,
   "metadata": {},
   "outputs": [
    {
     "name": "stdout",
     "output_type": "stream",
     "text": [
      "pi is 3.141592653589793\n",
      "cos(pi) is -1.0\n"
     ]
    }
   ],
   "source": [
    "import math            #math library\n",
    "print('pi is', math.pi)\n",
    "print('cos(pi) is', math.cos(math.pi))"
   ]
  },
  {
   "cell_type": "code",
   "execution_count": 23,
   "metadata": {},
   "outputs": [
    {
     "name": "stdout",
     "output_type": "stream",
     "text": [
      "Help on built-in module math:\n",
      "\n",
      "NAME\n",
      "    math\n",
      "\n",
      "DESCRIPTION\n",
      "    This module is always available.  It provides access to the\n",
      "    mathematical functions defined by the C standard.\n",
      "\n",
      "FUNCTIONS\n",
      "    acos(...)\n",
      "        acos(x)\n",
      "        \n",
      "        Return the arc cosine (measured in radians) of x.\n",
      "    \n",
      "    acosh(...)\n",
      "        acosh(x)\n",
      "        \n",
      "        Return the inverse hyperbolic cosine of x.\n",
      "    \n",
      "    asin(...)\n",
      "        asin(x)\n",
      "        \n",
      "        Return the arc sine (measured in radians) of x.\n",
      "    \n",
      "    asinh(...)\n",
      "        asinh(x)\n",
      "        \n",
      "        Return the inverse hyperbolic sine of x.\n",
      "    \n",
      "    atan(...)\n",
      "        atan(x)\n",
      "        \n",
      "        Return the arc tangent (measured in radians) of x.\n",
      "    \n",
      "    atan2(...)\n",
      "        atan2(y, x)\n",
      "        \n",
      "        Return the arc tangent (measured in radians) of y/x.\n",
      "        Unlike atan(y/x), the signs of both x and y are considered.\n",
      "    \n",
      "    atanh(...)\n",
      "        atanh(x)\n",
      "        \n",
      "        Return the inverse hyperbolic tangent of x.\n",
      "    \n",
      "    ceil(...)\n",
      "        ceil(x)\n",
      "        \n",
      "        Return the ceiling of x as an Integral.\n",
      "        This is the smallest integer >= x.\n",
      "    \n",
      "    copysign(...)\n",
      "        copysign(x, y)\n",
      "        \n",
      "        Return a float with the magnitude (absolute value) of x but the sign \n",
      "        of y. On platforms that support signed zeros, copysign(1.0, -0.0) \n",
      "        returns -1.0.\n",
      "    \n",
      "    cos(...)\n",
      "        cos(x)\n",
      "        \n",
      "        Return the cosine of x (measured in radians).\n",
      "    \n",
      "    cosh(...)\n",
      "        cosh(x)\n",
      "        \n",
      "        Return the hyperbolic cosine of x.\n",
      "    \n",
      "    degrees(...)\n",
      "        degrees(x)\n",
      "        \n",
      "        Convert angle x from radians to degrees.\n",
      "    \n",
      "    erf(...)\n",
      "        erf(x)\n",
      "        \n",
      "        Error function at x.\n",
      "    \n",
      "    erfc(...)\n",
      "        erfc(x)\n",
      "        \n",
      "        Complementary error function at x.\n",
      "    \n",
      "    exp(...)\n",
      "        exp(x)\n",
      "        \n",
      "        Return e raised to the power of x.\n",
      "    \n",
      "    expm1(...)\n",
      "        expm1(x)\n",
      "        \n",
      "        Return exp(x)-1.\n",
      "        This function avoids the loss of precision involved in the direct evaluation of exp(x)-1 for small x.\n",
      "    \n",
      "    fabs(...)\n",
      "        fabs(x)\n",
      "        \n",
      "        Return the absolute value of the float x.\n",
      "    \n",
      "    factorial(...)\n",
      "        factorial(x) -> Integral\n",
      "        \n",
      "        Find x!. Raise a ValueError if x is negative or non-integral.\n",
      "    \n",
      "    floor(...)\n",
      "        floor(x)\n",
      "        \n",
      "        Return the floor of x as an Integral.\n",
      "        This is the largest integer <= x.\n",
      "    \n",
      "    fmod(...)\n",
      "        fmod(x, y)\n",
      "        \n",
      "        Return fmod(x, y), according to platform C.  x % y may differ.\n",
      "    \n",
      "    frexp(...)\n",
      "        frexp(x)\n",
      "        \n",
      "        Return the mantissa and exponent of x, as pair (m, e).\n",
      "        m is a float and e is an int, such that x = m * 2.**e.\n",
      "        If x is 0, m and e are both 0.  Else 0.5 <= abs(m) < 1.0.\n",
      "    \n",
      "    fsum(...)\n",
      "        fsum(iterable)\n",
      "        \n",
      "        Return an accurate floating point sum of values in the iterable.\n",
      "        Assumes IEEE-754 floating point arithmetic.\n",
      "    \n",
      "    gamma(...)\n",
      "        gamma(x)\n",
      "        \n",
      "        Gamma function at x.\n",
      "    \n",
      "    gcd(...)\n",
      "        gcd(x, y) -> int\n",
      "        greatest common divisor of x and y\n",
      "    \n",
      "    hypot(...)\n",
      "        hypot(x, y)\n",
      "        \n",
      "        Return the Euclidean distance, sqrt(x*x + y*y).\n",
      "    \n",
      "    isclose(...)\n",
      "        isclose(a, b, *, rel_tol=1e-09, abs_tol=0.0) -> bool\n",
      "        \n",
      "        Determine whether two floating point numbers are close in value.\n",
      "        \n",
      "           rel_tol\n",
      "               maximum difference for being considered \"close\", relative to the\n",
      "               magnitude of the input values\n",
      "            abs_tol\n",
      "               maximum difference for being considered \"close\", regardless of the\n",
      "               magnitude of the input values\n",
      "        \n",
      "        Return True if a is close in value to b, and False otherwise.\n",
      "        \n",
      "        For the values to be considered close, the difference between them\n",
      "        must be smaller than at least one of the tolerances.\n",
      "        \n",
      "        -inf, inf and NaN behave similarly to the IEEE 754 Standard.  That\n",
      "        is, NaN is not close to anything, even itself.  inf and -inf are\n",
      "        only close to themselves.\n",
      "    \n",
      "    isfinite(...)\n",
      "        isfinite(x) -> bool\n",
      "        \n",
      "        Return True if x is neither an infinity nor a NaN, and False otherwise.\n",
      "    \n",
      "    isinf(...)\n",
      "        isinf(x) -> bool\n",
      "        \n",
      "        Return True if x is a positive or negative infinity, and False otherwise.\n",
      "    \n",
      "    isnan(...)\n",
      "        isnan(x) -> bool\n",
      "        \n",
      "        Return True if x is a NaN (not a number), and False otherwise.\n",
      "    \n",
      "    ldexp(...)\n",
      "        ldexp(x, i)\n",
      "        \n",
      "        Return x * (2**i).\n",
      "    \n",
      "    lgamma(...)\n",
      "        lgamma(x)\n",
      "        \n",
      "        Natural logarithm of absolute value of Gamma function at x.\n",
      "    \n",
      "    log(...)\n",
      "        log(x[, base])\n",
      "        \n",
      "        Return the logarithm of x to the given base.\n",
      "        If the base not specified, returns the natural logarithm (base e) of x.\n",
      "    \n",
      "    log10(...)\n",
      "        log10(x)\n",
      "        \n",
      "        Return the base 10 logarithm of x.\n",
      "    \n",
      "    log1p(...)\n",
      "        log1p(x)\n",
      "        \n",
      "        Return the natural logarithm of 1+x (base e).\n",
      "        The result is computed in a way which is accurate for x near zero.\n",
      "    \n",
      "    log2(...)\n",
      "        log2(x)\n",
      "        \n",
      "        Return the base 2 logarithm of x.\n",
      "    \n",
      "    modf(...)\n",
      "        modf(x)\n",
      "        \n",
      "        Return the fractional and integer parts of x.  Both results carry the sign\n",
      "        of x and are floats.\n",
      "    \n",
      "    pow(...)\n",
      "        pow(x, y)\n",
      "        \n",
      "        Return x**y (x to the power of y).\n",
      "    \n",
      "    radians(...)\n",
      "        radians(x)\n",
      "        \n",
      "        Convert angle x from degrees to radians.\n",
      "    \n",
      "    sin(...)\n",
      "        sin(x)\n",
      "        \n",
      "        Return the sine of x (measured in radians).\n",
      "    \n",
      "    sinh(...)\n",
      "        sinh(x)\n",
      "        \n",
      "        Return the hyperbolic sine of x.\n",
      "    \n",
      "    sqrt(...)\n",
      "        sqrt(x)\n",
      "        \n",
      "        Return the square root of x.\n",
      "    \n",
      "    tan(...)\n",
      "        tan(x)\n",
      "        \n",
      "        Return the tangent of x (measured in radians).\n",
      "    \n",
      "    tanh(...)\n",
      "        tanh(x)\n",
      "        \n",
      "        Return the hyperbolic tangent of x.\n",
      "    \n",
      "    trunc(...)\n",
      "        trunc(x:Real) -> Integral\n",
      "        \n",
      "        Truncates x to the nearest Integral toward 0. Uses the __trunc__ magic method.\n",
      "\n",
      "DATA\n",
      "    e = 2.718281828459045\n",
      "    inf = inf\n",
      "    nan = nan\n",
      "    pi = 3.141592653589793\n",
      "\n",
      "FILE\n",
      "    (built-in)\n",
      "\n",
      "\n"
     ]
    }
   ],
   "source": [
    "help(math)"
   ]
  },
  {
   "cell_type": "code",
   "execution_count": 25,
   "metadata": {},
   "outputs": [
    {
     "name": "stdout",
     "output_type": "stream",
     "text": [
      "pi is 3.141592653589793\n",
      "cos(pi) is -1.0\n"
     ]
    }
   ],
   "source": [
    "from math import cos, pi    #importing trig functions\n",
    "\n",
    "print('pi is', pi)\n",
    "print('cos(pi) is', cos(pi))"
   ]
  },
  {
   "cell_type": "code",
   "execution_count": 28,
   "metadata": {},
   "outputs": [
    {
     "name": "stdout",
     "output_type": "stream",
     "text": [
      "3.141592653589793\n",
      "-1.0\n"
     ]
    }
   ],
   "source": [
    "import math as m     #shorthand for the math library. Other exmaples eg matplotlib -> mpl\n",
    "\n",
    "print(m.pi)\n",
    "print(cos(m.pi))"
   ]
  },
  {
   "cell_type": "code",
   "execution_count": 33,
   "metadata": {},
   "outputs": [
    {
     "name": "stdout",
     "output_type": "stream",
     "text": [
      "       country  gdpPercap_1952  gdpPercap_1957  gdpPercap_1962  \\\n",
      "0    Australia     10039.59564     10949.64959     12217.22686   \n",
      "1  New Zealand     10556.57566     12247.39532     13175.67800   \n",
      "\n",
      "   gdpPercap_1967  gdpPercap_1972  gdpPercap_1977  gdpPercap_1982  \\\n",
      "0     14526.12465     16788.62948     18334.19751     19477.00928   \n",
      "1     14463.91893     16046.03728     16233.71770     17632.41040   \n",
      "\n",
      "   gdpPercap_1987  gdpPercap_1992  gdpPercap_1997  gdpPercap_2002  \\\n",
      "0     21888.88903     23424.76683     26997.93657     30687.75473   \n",
      "1     19007.19129     18363.32494     21050.41377     23189.80135   \n",
      "\n",
      "   gdpPercap_2007  \n",
      "0     34435.36744  \n",
      "1     25185.00911  \n"
     ]
    }
   ],
   "source": [
    "import pandas     #works with data frames, eg matrices\n",
    "\n",
    "data = pandas.read_csv ('data/gapminder_gdp_oceania.csv')\n",
    "print(data)"
   ]
  },
  {
   "cell_type": "code",
   "execution_count": 35,
   "metadata": {},
   "outputs": [],
   "source": [
    "import pandas as pd     #shorthand alternative\n",
    "\n",
    "data = pd.read_csv ('data/gapminder_gdp_oceania.csv')"
   ]
  },
  {
   "cell_type": "code",
   "execution_count": 37,
   "metadata": {},
   "outputs": [
    {
     "name": "stdout",
     "output_type": "stream",
     "text": [
      "<class 'pandas.core.frame.DataFrame'>\n",
      "RangeIndex: 2 entries, 0 to 1\n",
      "Data columns (total 13 columns):\n",
      "country           2 non-null object\n",
      "gdpPercap_1952    2 non-null float64\n",
      "gdpPercap_1957    2 non-null float64\n",
      "gdpPercap_1962    2 non-null float64\n",
      "gdpPercap_1967    2 non-null float64\n",
      "gdpPercap_1972    2 non-null float64\n",
      "gdpPercap_1977    2 non-null float64\n",
      "gdpPercap_1982    2 non-null float64\n",
      "gdpPercap_1987    2 non-null float64\n",
      "gdpPercap_1992    2 non-null float64\n",
      "gdpPercap_1997    2 non-null float64\n",
      "gdpPercap_2002    2 non-null float64\n",
      "gdpPercap_2007    2 non-null float64\n",
      "dtypes: float64(12), object(1)\n",
      "memory usage: 288.0+ bytes\n"
     ]
    }
   ],
   "source": [
    "data.info()    #open close brackets (empty) is run function\n",
    "               #using the name of the variable you just defined, in this case data"
   ]
  },
  {
   "cell_type": "code",
   "execution_count": 38,
   "metadata": {},
   "outputs": [
    {
     "name": "stdout",
     "output_type": "stream",
     "text": [
      "Index(['country', 'gdpPercap_1952', 'gdpPercap_1957', 'gdpPercap_1962',\n",
      "       'gdpPercap_1967', 'gdpPercap_1972', 'gdpPercap_1977', 'gdpPercap_1982',\n",
      "       'gdpPercap_1987', 'gdpPercap_1992', 'gdpPercap_1997', 'gdpPercap_2002',\n",
      "       'gdpPercap_2007'],\n",
      "      dtype='object')\n"
     ]
    }
   ],
   "source": [
    "print(data.columns)"
   ]
  },
  {
   "cell_type": "code",
   "execution_count": 39,
   "metadata": {},
   "outputs": [
    {
     "ename": "AttributeError",
     "evalue": "'DataFrame' object has no attribute 'rows'",
     "output_type": "error",
     "traceback": [
      "\u001b[0;31m---------------------------------------------------------------------------\u001b[0m",
      "\u001b[0;31mAttributeError\u001b[0m                            Traceback (most recent call last)",
      "\u001b[0;32m<ipython-input-39-054aeeeb5c2b>\u001b[0m in \u001b[0;36m<module>\u001b[0;34m()\u001b[0m\n\u001b[0;32m----> 1\u001b[0;31m \u001b[0mprint\u001b[0m\u001b[0;34m(\u001b[0m\u001b[0mdata\u001b[0m\u001b[0;34m.\u001b[0m\u001b[0mrows\u001b[0m\u001b[0;34m)\u001b[0m\u001b[0;34m\u001b[0m\u001b[0m\n\u001b[0m",
      "\u001b[0;32m/usr/local/lib/python3.5/dist-packages/pandas/core/generic.py\u001b[0m in \u001b[0;36m__getattr__\u001b[0;34m(self, name)\u001b[0m\n\u001b[1;32m   3612\u001b[0m             \u001b[0;32mif\u001b[0m \u001b[0mname\u001b[0m \u001b[0;32min\u001b[0m \u001b[0mself\u001b[0m\u001b[0;34m.\u001b[0m\u001b[0m_info_axis\u001b[0m\u001b[0;34m:\u001b[0m\u001b[0;34m\u001b[0m\u001b[0m\n\u001b[1;32m   3613\u001b[0m                 \u001b[0;32mreturn\u001b[0m \u001b[0mself\u001b[0m\u001b[0;34m[\u001b[0m\u001b[0mname\u001b[0m\u001b[0;34m]\u001b[0m\u001b[0;34m\u001b[0m\u001b[0m\n\u001b[0;32m-> 3614\u001b[0;31m             \u001b[0;32mreturn\u001b[0m \u001b[0mobject\u001b[0m\u001b[0;34m.\u001b[0m\u001b[0m__getattribute__\u001b[0m\u001b[0;34m(\u001b[0m\u001b[0mself\u001b[0m\u001b[0;34m,\u001b[0m \u001b[0mname\u001b[0m\u001b[0;34m)\u001b[0m\u001b[0;34m\u001b[0m\u001b[0m\n\u001b[0m\u001b[1;32m   3615\u001b[0m \u001b[0;34m\u001b[0m\u001b[0m\n\u001b[1;32m   3616\u001b[0m     \u001b[0;32mdef\u001b[0m \u001b[0m__setattr__\u001b[0m\u001b[0;34m(\u001b[0m\u001b[0mself\u001b[0m\u001b[0;34m,\u001b[0m \u001b[0mname\u001b[0m\u001b[0;34m,\u001b[0m \u001b[0mvalue\u001b[0m\u001b[0;34m)\u001b[0m\u001b[0;34m:\u001b[0m\u001b[0;34m\u001b[0m\u001b[0m\n",
      "\u001b[0;31mAttributeError\u001b[0m: 'DataFrame' object has no attribute 'rows'"
     ]
    }
   ],
   "source": [
    "print(data.rows)      #no 'rows' nomenclauture"
   ]
  },
  {
   "cell_type": "code",
   "execution_count": 40,
   "metadata": {},
   "outputs": [
    {
     "name": "stdout",
     "output_type": "stream",
     "text": [
      "                        0            1\n",
      "country         Australia  New Zealand\n",
      "gdpPercap_1952    10039.6      10556.6\n",
      "gdpPercap_1957    10949.6      12247.4\n",
      "gdpPercap_1962    12217.2      13175.7\n",
      "gdpPercap_1967    14526.1      14463.9\n",
      "gdpPercap_1972    16788.6        16046\n",
      "gdpPercap_1977    18334.2      16233.7\n",
      "gdpPercap_1982      19477      17632.4\n",
      "gdpPercap_1987    21888.9      19007.2\n",
      "gdpPercap_1992    23424.8      18363.3\n",
      "gdpPercap_1997    26997.9      21050.4\n",
      "gdpPercap_2002    30687.8      23189.8\n",
      "gdpPercap_2007    34435.4        25185\n"
     ]
    }
   ],
   "source": [
    "print(data.T)              #transpose the columns"
   ]
  },
  {
   "cell_type": "code",
   "execution_count": 41,
   "metadata": {},
   "outputs": [
    {
     "name": "stdout",
     "output_type": "stream",
     "text": [
      "       gdpPercap_1952  gdpPercap_1957  gdpPercap_1962  gdpPercap_1967  \\\n",
      "count        2.000000        2.000000        2.000000        2.000000   \n",
      "mean     10298.085650    11598.522455    12696.452430    14495.021790   \n",
      "std        365.560078      917.644806      677.727301       43.986086   \n",
      "min      10039.595640    10949.649590    12217.226860    14463.918930   \n",
      "25%      10168.840645    11274.086022    12456.839645    14479.470360   \n",
      "50%      10298.085650    11598.522455    12696.452430    14495.021790   \n",
      "75%      10427.330655    11922.958888    12936.065215    14510.573220   \n",
      "max      10556.575660    12247.395320    13175.678000    14526.124650   \n",
      "\n",
      "       gdpPercap_1972  gdpPercap_1977  gdpPercap_1982  gdpPercap_1987  \\\n",
      "count         2.00000        2.000000        2.000000        2.000000   \n",
      "mean      16417.33338    17283.957605    18554.709840    20448.040160   \n",
      "std         525.09198     1485.263517     1304.328377     2037.668013   \n",
      "min       16046.03728    16233.717700    17632.410400    19007.191290   \n",
      "25%       16231.68533    16758.837652    18093.560120    19727.615725   \n",
      "50%       16417.33338    17283.957605    18554.709840    20448.040160   \n",
      "75%       16602.98143    17809.077557    19015.859560    21168.464595   \n",
      "max       16788.62948    18334.197510    19477.009280    21888.889030   \n",
      "\n",
      "       gdpPercap_1992  gdpPercap_1997  gdpPercap_2002  gdpPercap_2007  \n",
      "count        2.000000        2.000000        2.000000        2.000000  \n",
      "mean     20894.045885    24024.175170    26938.778040    29810.188275  \n",
      "std       3578.979883     4205.533703     5301.853680     6540.991104  \n",
      "min      18363.324940    21050.413770    23189.801350    25185.009110  \n",
      "25%      19628.685413    22537.294470    25064.289695    27497.598692  \n",
      "50%      20894.045885    24024.175170    26938.778040    29810.188275  \n",
      "75%      22159.406358    25511.055870    28813.266385    32122.777857  \n",
      "max      23424.766830    26997.936570    30687.754730    34435.367440  \n"
     ]
    }
   ],
   "source": [
    "print(data.describe())       #gives statistical info about the data, not the strings (ignores the strings)\n",
    "                             #open close brackets here because...? the function manipulates the data..(?)"
   ]
  },
  {
   "cell_type": "code",
   "execution_count": 42,
   "metadata": {},
   "outputs": [],
   "source": [
    "data = pd.read_csv ('data/gapminder_gdp_americas.csv')"
   ]
  },
  {
   "cell_type": "code",
   "execution_count": 43,
   "metadata": {},
   "outputs": [
    {
     "name": "stdout",
     "output_type": "stream",
     "text": [
      "<class 'pandas.core.frame.DataFrame'>\n",
      "RangeIndex: 25 entries, 0 to 24\n",
      "Data columns (total 14 columns):\n",
      "continent         25 non-null object\n",
      "country           25 non-null object\n",
      "gdpPercap_1952    25 non-null float64\n",
      "gdpPercap_1957    25 non-null float64\n",
      "gdpPercap_1962    25 non-null float64\n",
      "gdpPercap_1967    25 non-null float64\n",
      "gdpPercap_1972    25 non-null float64\n",
      "gdpPercap_1977    25 non-null float64\n",
      "gdpPercap_1982    25 non-null float64\n",
      "gdpPercap_1987    25 non-null float64\n",
      "gdpPercap_1992    25 non-null float64\n",
      "gdpPercap_1997    25 non-null float64\n",
      "gdpPercap_2002    25 non-null float64\n",
      "gdpPercap_2007    25 non-null float64\n",
      "dtypes: float64(12), object(2)\n",
      "memory usage: 2.8+ KB\n"
     ]
    }
   ],
   "source": [
    "data.info()"
   ]
  },
  {
   "cell_type": "code",
   "execution_count": 44,
   "metadata": {},
   "outputs": [
    {
     "name": "stdout",
     "output_type": "stream",
     "text": [
      "Index(['continent', 'country', 'gdpPercap_1952', 'gdpPercap_1957',\n",
      "       'gdpPercap_1962', 'gdpPercap_1967', 'gdpPercap_1972', 'gdpPercap_1977',\n",
      "       'gdpPercap_1982', 'gdpPercap_1987', 'gdpPercap_1992', 'gdpPercap_1997',\n",
      "       'gdpPercap_2002', 'gdpPercap_2007'],\n",
      "      dtype='object')\n"
     ]
    }
   ],
   "source": [
    "print(data.columns)"
   ]
  },
  {
   "cell_type": "code",
   "execution_count": 45,
   "metadata": {},
   "outputs": [
    {
     "name": "stdout",
     "output_type": "stream",
     "text": [
      "                       0         1         2         3         4         5   \\\n",
      "continent        Americas  Americas  Americas  Americas  Americas  Americas   \n",
      "country         Argentina   Bolivia    Brazil    Canada     Chile  Colombia   \n",
      "gdpPercap_1952    5911.32   2677.33   2108.94   11367.2   3939.98   2144.12   \n",
      "gdpPercap_1957    6856.86   2127.69   2487.37     12490   4315.62   2323.81   \n",
      "gdpPercap_1962    7133.17   2180.97   3336.59   13462.5   4519.09   2492.35   \n",
      "gdpPercap_1967    8052.95   2586.89   3429.86   16076.6   5106.65   2678.73   \n",
      "gdpPercap_1972    9443.04   2980.33   4985.71   18970.6   5494.02   3264.66   \n",
      "gdpPercap_1977      10079    3548.1   6660.12   22090.9   4756.76   3815.81   \n",
      "gdpPercap_1982     8997.9   3156.51   7030.84   22898.8   5095.67   4397.58   \n",
      "gdpPercap_1987    9139.67   2753.69    7807.1   26626.5   5547.06   4903.22   \n",
      "gdpPercap_1992    9308.42    2961.7   6950.28   26342.9   7596.13   5444.65   \n",
      "gdpPercap_1997    10967.3   3326.14   7957.98   28954.9   10118.1   6117.36   \n",
      "gdpPercap_2002    8797.64   3413.26   8131.21     33329   10778.8   5755.26   \n",
      "gdpPercap_2007    12779.4   3822.14    9065.8   36319.2   13171.6   7006.58   \n",
      "\n",
      "                        6         7                   8         9     ...      \\\n",
      "continent         Americas  Americas            Americas  Americas    ...       \n",
      "country         Costa Rica      Cuba  Dominican Republic   Ecuador    ...       \n",
      "gdpPercap_1952     2627.01   5586.54             1397.72   3522.11    ...       \n",
      "gdpPercap_1957     2990.01   6092.17              1544.4   3780.55    ...       \n",
      "gdpPercap_1962     3460.94   5180.76             1662.14   4086.11    ...       \n",
      "gdpPercap_1967     4161.73   5690.27             1653.72   4579.07    ...       \n",
      "gdpPercap_1972     5118.15   5305.45             2189.87   5280.99    ...       \n",
      "gdpPercap_1977     5926.88   6380.49             2681.99   6679.62    ...       \n",
      "gdpPercap_1982     5262.73   7316.92             2861.09   7213.79    ...       \n",
      "gdpPercap_1987     5629.92   7532.92             2899.84   6481.78    ...       \n",
      "gdpPercap_1992     6160.42   5592.84             3044.21    7103.7    ...       \n",
      "gdpPercap_1997     6677.05   5431.99              3614.1   7429.46    ...       \n",
      "gdpPercap_2002     7723.45   6340.65             4563.81   5773.04    ...       \n",
      "gdpPercap_2007     9645.06    8948.1             6025.37   6873.26    ...       \n",
      "\n",
      "                      15         16        17        18        19  \\\n",
      "continent       Americas   Americas  Americas  Americas  Americas   \n",
      "country           Mexico  Nicaragua    Panama  Paraguay      Peru   \n",
      "gdpPercap_1952   3478.13    3112.36   2480.38   1952.31   3758.52   \n",
      "gdpPercap_1957   4131.55    3457.42    2961.8   2046.15   4245.26   \n",
      "gdpPercap_1962   4581.61    3634.36   3536.54   2148.03   4957.04   \n",
      "gdpPercap_1967   5754.73    4643.39   4421.01   2299.38   5788.09   \n",
      "gdpPercap_1972   6809.41    4688.59   5364.25   2523.34   5937.83   \n",
      "gdpPercap_1977   7674.93    5486.37   5351.91   3248.37   6281.29   \n",
      "gdpPercap_1982   9611.15    3470.34    7009.6    4258.5    6434.5   \n",
      "gdpPercap_1987   8688.16    2955.98   7034.78   3998.88   6360.94   \n",
      "gdpPercap_1992   9472.38    2170.15   6618.74   4196.41   4446.38   \n",
      "gdpPercap_1997    9767.3    2253.02   7113.69    4247.4   5838.35   \n",
      "gdpPercap_2002   10742.4    2474.55   7356.03   3783.67   5909.02   \n",
      "gdpPercap_2007   11977.6    2749.32   9809.19   4172.84   7408.91   \n",
      "\n",
      "                         20                   21             22        23  \\\n",
      "continent          Americas             Americas       Americas  Americas   \n",
      "country         Puerto Rico  Trinidad and Tobago  United States   Uruguay   \n",
      "gdpPercap_1952      3081.96              3023.27        13990.5   5716.77   \n",
      "gdpPercap_1957      3907.16              4100.39        14847.1   6150.77   \n",
      "gdpPercap_1962      5108.34              4997.52        16173.1   5603.36   \n",
      "gdpPercap_1967      6929.28              5621.37        19530.4   5444.62   \n",
      "gdpPercap_1972      9123.04              6619.55          21806   5703.41   \n",
      "gdpPercap_1977      9770.52              7899.55        24072.6   6504.34   \n",
      "gdpPercap_1982        10331              9119.53        25009.6   6920.22   \n",
      "gdpPercap_1987      12281.3               7388.6        29884.4    7452.4   \n",
      "gdpPercap_1992      14641.6              7370.99        32003.9      8137   \n",
      "gdpPercap_1997      16999.4              8792.57        35767.4   9230.24   \n",
      "gdpPercap_2002      18855.6              11460.6        39097.1      7727   \n",
      "gdpPercap_2007      19328.7              18008.5        42951.7   10611.5   \n",
      "\n",
      "                       24  \n",
      "continent        Americas  \n",
      "country         Venezuela  \n",
      "gdpPercap_1952     7689.8  \n",
      "gdpPercap_1957    9802.47  \n",
      "gdpPercap_1962    8422.97  \n",
      "gdpPercap_1967    9541.47  \n",
      "gdpPercap_1972    10505.3  \n",
      "gdpPercap_1977      13144  \n",
      "gdpPercap_1982    11152.4  \n",
      "gdpPercap_1987    9883.58  \n",
      "gdpPercap_1992    10733.9  \n",
      "gdpPercap_1997    10165.5  \n",
      "gdpPercap_2002    8605.05  \n",
      "gdpPercap_2007    11415.8  \n",
      "\n",
      "[14 rows x 25 columns]\n"
     ]
    }
   ],
   "source": [
    "print(data.T)   "
   ]
  },
  {
   "cell_type": "code",
   "execution_count": 46,
   "metadata": {},
   "outputs": [
    {
     "name": "stdout",
     "output_type": "stream",
     "text": [
      "       gdpPercap_1952  gdpPercap_1957  gdpPercap_1962  gdpPercap_1967  \\\n",
      "count       25.000000       25.000000       25.000000       25.000000   \n",
      "mean      4079.062552     4616.043733     4901.541870     5668.253496   \n",
      "std       3001.727522     3312.381083     3421.740569     4160.885560   \n",
      "min       1397.717137     1544.402995     1662.137359     1452.057666   \n",
      "25%       2428.237769     2487.365989     2750.364446     3242.531147   \n",
      "50%       3048.302900     3780.546651     4086.114078     4643.393534   \n",
      "75%       3939.978789     4756.525781     5180.755910     5788.093330   \n",
      "max      13990.482080    14847.127120    16173.145860    19530.365570   \n",
      "\n",
      "       gdpPercap_1972  gdpPercap_1977  gdpPercap_1982  gdpPercap_1987  \\\n",
      "count       25.000000       25.000000       25.000000       25.000000   \n",
      "mean      6491.334139     7352.007126     7506.737088     7793.400261   \n",
      "std       4754.404329     5355.602518     5530.490471     6665.039509   \n",
      "min       1654.456946     1874.298931     2011.159549     1823.015995   \n",
      "25%       4031.408271     4756.763836     4258.503604     4140.442097   \n",
      "50%       5305.445256     6281.290855     6434.501797     6360.943444   \n",
      "75%       6809.406690     7674.929108     8997.897412     7807.095818   \n",
      "max      21806.035940    24072.632130    25009.559140    29884.350410   \n",
      "\n",
      "       gdpPercap_1992  gdpPercap_1997  gdpPercap_2002  gdpPercap_2007  \n",
      "count       25.000000       25.000000       25.000000       25.000000  \n",
      "mean      8044.934406     8889.300863     9287.677107    11003.031625  \n",
      "std       7047.089191     7874.225145     8895.817785     9713.209302  \n",
      "min       1456.309517     1341.726931     1270.364932     1201.637154  \n",
      "25%       4439.450840     4684.313807     4858.347495     5728.353514  \n",
      "50%       6618.743050     7113.692252     6994.774861     8948.102923  \n",
      "75%       8137.004775     9767.297530     8797.640716    11977.574960  \n",
      "max      32003.932240    35767.433030    39097.099550    42951.653090  \n"
     ]
    }
   ],
   "source": [
    "print(data.describe())   "
   ]
  },
  {
   "cell_type": "code",
   "execution_count": 47,
   "metadata": {},
   "outputs": [
    {
     "data": {
      "text/html": [
       "<div>\n",
       "<style scoped>\n",
       "    .dataframe tbody tr th:only-of-type {\n",
       "        vertical-align: middle;\n",
       "    }\n",
       "\n",
       "    .dataframe tbody tr th {\n",
       "        vertical-align: top;\n",
       "    }\n",
       "\n",
       "    .dataframe thead th {\n",
       "        text-align: right;\n",
       "    }\n",
       "</style>\n",
       "<table border=\"1\" class=\"dataframe\">\n",
       "  <thead>\n",
       "    <tr style=\"text-align: right;\">\n",
       "      <th></th>\n",
       "      <th>continent</th>\n",
       "      <th>country</th>\n",
       "      <th>gdpPercap_1952</th>\n",
       "      <th>gdpPercap_1957</th>\n",
       "      <th>gdpPercap_1962</th>\n",
       "      <th>gdpPercap_1967</th>\n",
       "      <th>gdpPercap_1972</th>\n",
       "      <th>gdpPercap_1977</th>\n",
       "      <th>gdpPercap_1982</th>\n",
       "      <th>gdpPercap_1987</th>\n",
       "      <th>gdpPercap_1992</th>\n",
       "      <th>gdpPercap_1997</th>\n",
       "      <th>gdpPercap_2002</th>\n",
       "      <th>gdpPercap_2007</th>\n",
       "    </tr>\n",
       "  </thead>\n",
       "  <tbody>\n",
       "    <tr>\n",
       "      <th>0</th>\n",
       "      <td>Americas</td>\n",
       "      <td>Argentina</td>\n",
       "      <td>5911.315053</td>\n",
       "      <td>6856.856212</td>\n",
       "      <td>7133.166023</td>\n",
       "      <td>8052.953021</td>\n",
       "      <td>9443.038526</td>\n",
       "      <td>10079.026740</td>\n",
       "      <td>8997.897412</td>\n",
       "      <td>9139.671389</td>\n",
       "      <td>9308.418710</td>\n",
       "      <td>10967.281950</td>\n",
       "      <td>8797.640716</td>\n",
       "      <td>12779.379640</td>\n",
       "    </tr>\n",
       "    <tr>\n",
       "      <th>1</th>\n",
       "      <td>Americas</td>\n",
       "      <td>Bolivia</td>\n",
       "      <td>2677.326347</td>\n",
       "      <td>2127.686326</td>\n",
       "      <td>2180.972546</td>\n",
       "      <td>2586.886053</td>\n",
       "      <td>2980.331339</td>\n",
       "      <td>3548.097832</td>\n",
       "      <td>3156.510452</td>\n",
       "      <td>2753.691490</td>\n",
       "      <td>2961.699694</td>\n",
       "      <td>3326.143191</td>\n",
       "      <td>3413.262690</td>\n",
       "      <td>3822.137084</td>\n",
       "    </tr>\n",
       "    <tr>\n",
       "      <th>2</th>\n",
       "      <td>Americas</td>\n",
       "      <td>Brazil</td>\n",
       "      <td>2108.944355</td>\n",
       "      <td>2487.365989</td>\n",
       "      <td>3336.585802</td>\n",
       "      <td>3429.864357</td>\n",
       "      <td>4985.711467</td>\n",
       "      <td>6660.118654</td>\n",
       "      <td>7030.835878</td>\n",
       "      <td>7807.095818</td>\n",
       "      <td>6950.283021</td>\n",
       "      <td>7957.980824</td>\n",
       "      <td>8131.212843</td>\n",
       "      <td>9065.800825</td>\n",
       "    </tr>\n",
       "  </tbody>\n",
       "</table>\n",
       "</div>"
      ],
      "text/plain": [
       "  continent    country  gdpPercap_1952  gdpPercap_1957  gdpPercap_1962  \\\n",
       "0  Americas  Argentina     5911.315053     6856.856212     7133.166023   \n",
       "1  Americas    Bolivia     2677.326347     2127.686326     2180.972546   \n",
       "2  Americas     Brazil     2108.944355     2487.365989     3336.585802   \n",
       "\n",
       "   gdpPercap_1967  gdpPercap_1972  gdpPercap_1977  gdpPercap_1982  \\\n",
       "0     8052.953021     9443.038526    10079.026740     8997.897412   \n",
       "1     2586.886053     2980.331339     3548.097832     3156.510452   \n",
       "2     3429.864357     4985.711467     6660.118654     7030.835878   \n",
       "\n",
       "   gdpPercap_1987  gdpPercap_1992  gdpPercap_1997  gdpPercap_2002  \\\n",
       "0     9139.671389     9308.418710    10967.281950     8797.640716   \n",
       "1     2753.691490     2961.699694     3326.143191     3413.262690   \n",
       "2     7807.095818     6950.283021     7957.980824     8131.212843   \n",
       "\n",
       "   gdpPercap_2007  \n",
       "0    12779.379640  \n",
       "1     3822.137084  \n",
       "2     9065.800825  "
      ]
     },
     "execution_count": 47,
     "metadata": {},
     "output_type": "execute_result"
    }
   ],
   "source": [
    "data.head(n=3)                   #head, same as in bash - same style but slightly different (no - in the n=3  bash would be n-3)"
   ]
  },
  {
   "cell_type": "code",
   "execution_count": 48,
   "metadata": {},
   "outputs": [],
   "source": [
    "#to_csv   writes to csv (not write_csv)"
   ]
  },
  {
   "cell_type": "code",
   "execution_count": 51,
   "metadata": {},
   "outputs": [
    {
     "name": "stdout",
     "output_type": "stream",
     "text": [
      "1601.056136\n",
      "1601.056136\n"
     ]
    }
   ],
   "source": [
    "import pandas as pd\n",
    "\n",
    "data = pd.read_csv('data/gapminder_gdp_europe.csv', index_col='country')    #index_col = column name (could have been a number index too)\n",
    "print(data.iloc[0,0])   #location along the first row  of the column you just identified; produces 1 number\n",
    "#or\n",
    "print(data.loc['Albania', 'gdpPercap_1952'])   #location in Albania column i.e. te gdpPercap_1952 row  - easy to pull out if you know what the data data is and where it is"
   ]
  },
  {
   "cell_type": "code",
   "execution_count": 52,
   "metadata": {},
   "outputs": [
    {
     "name": "stdout",
     "output_type": "stream",
     "text": [
      "gdpPercap_1952    1601.056136\n",
      "gdpPercap_1957    1942.284244\n",
      "gdpPercap_1962    2312.888958\n",
      "gdpPercap_1967    2760.196931\n",
      "gdpPercap_1972    3313.422188\n",
      "gdpPercap_1977    3533.003910\n",
      "gdpPercap_1982    3630.880722\n",
      "gdpPercap_1987    3738.932735\n",
      "gdpPercap_1992    2497.437901\n",
      "gdpPercap_1997    3193.054604\n",
      "gdpPercap_2002    4604.211737\n",
      "gdpPercap_2007    5937.029526\n",
      "Name: Albania, dtype: float64\n"
     ]
    }
   ],
   "source": [
    "print(data.loc[\"Albania\", :])   #take entire row"
   ]
  },
  {
   "cell_type": "code",
   "execution_count": 56,
   "metadata": {},
   "outputs": [
    {
     "name": "stdout",
     "output_type": "stream",
     "text": [
      "country\n",
      "Albania                    3738.932735\n",
      "Austria                   23687.826070\n",
      "Belgium                   22525.563080\n",
      "Bosnia and Herzegovina     4314.114757\n",
      "Bulgaria                   8239.854824\n",
      "Croatia                   13822.583940\n",
      "Czech Republic            16310.443400\n",
      "Denmark                   25116.175810\n",
      "Finland                   21141.012230\n",
      "France                    22066.442140\n",
      "Germany                   24639.185660\n",
      "Greece                    16120.528390\n",
      "Hungary                   12986.479980\n",
      "Iceland                   26923.206280\n",
      "Ireland                   13872.866520\n",
      "Italy                     19207.234820\n",
      "Montenegro                11732.510170\n",
      "Netherlands               23651.323610\n",
      "Norway                    31540.974800\n",
      "Poland                     9082.351172\n",
      "Portugal                  13039.308760\n",
      "Romania                    9696.273295\n",
      "Serbia                    15870.878510\n",
      "Slovak Republic           12037.267580\n",
      "Slovenia                  18678.534920\n",
      "Spain                     15764.983130\n",
      "Sweden                    23586.929270\n",
      "Switzerland               30281.704590\n",
      "Turkey                     5089.043686\n",
      "United Kingdom            21664.787670\n",
      "Name: gdpPercap_1987, dtype: float64\n"
     ]
    }
   ],
   "source": [
    "print(data.loc[:, 'gdpPercap_1987']) "
   ]
  },
  {
   "cell_type": "code",
   "execution_count": 57,
   "metadata": {},
   "outputs": [
    {
     "name": "stdout",
     "output_type": "stream",
     "text": [
      "country\n",
      "Albania                    3738.932735\n",
      "Austria                   23687.826070\n",
      "Belgium                   22525.563080\n",
      "Bosnia and Herzegovina     4314.114757\n",
      "Bulgaria                   8239.854824\n",
      "Croatia                   13822.583940\n",
      "Czech Republic            16310.443400\n",
      "Denmark                   25116.175810\n",
      "Finland                   21141.012230\n",
      "France                    22066.442140\n",
      "Germany                   24639.185660\n",
      "Greece                    16120.528390\n",
      "Hungary                   12986.479980\n",
      "Iceland                   26923.206280\n",
      "Ireland                   13872.866520\n",
      "Italy                     19207.234820\n",
      "Montenegro                11732.510170\n",
      "Netherlands               23651.323610\n",
      "Norway                    31540.974800\n",
      "Poland                     9082.351172\n",
      "Portugal                  13039.308760\n",
      "Romania                    9696.273295\n",
      "Serbia                    15870.878510\n",
      "Slovak Republic           12037.267580\n",
      "Slovenia                  18678.534920\n",
      "Spain                     15764.983130\n",
      "Sweden                    23586.929270\n",
      "Switzerland               30281.704590\n",
      "Turkey                     5089.043686\n",
      "United Kingdom            21664.787670\n",
      "Name: gdpPercap_1987, dtype: float64\n"
     ]
    }
   ],
   "source": [
    "print(data.gdpPercap_1987)      #calls the feature of the data frame  - Same as  print(data.loc[:, 'gdpPercap_1987']) "
   ]
  },
  {
   "cell_type": "code",
   "execution_count": 58,
   "metadata": {},
   "outputs": [
    {
     "name": "stdout",
     "output_type": "stream",
     "text": [
      "gdpPercap_1962    4649.593785\n",
      "gdpPercap_1967    5907.850937\n",
      "gdpPercap_1972    7778.414017\n",
      "dtype: float64\n"
     ]
    }
   ],
   "source": [
    "print(data.loc['Italy':'Poland','gdpPercap_1962':'gdpPercap_1972'].min())    #only want the min of the defined ranges"
   ]
  },
  {
   "cell_type": "code",
   "execution_count": 64,
   "metadata": {},
   "outputs": [
    {
     "name": "stdout",
     "output_type": "stream",
     "text": [
      "Subset of data:\n",
      "              gdpPercap_1962  gdpPercap_1967  gdpPercap_1972\n",
      "country                                                    \n",
      "Italy           8243.582340    10022.401310    12269.273780\n",
      "Montenegro      4649.593785     5907.850937     7778.414017\n",
      "Netherlands    12790.849560    15363.251360    18794.745670\n",
      "Norway         13450.401510    16361.876470    18965.055510\n",
      "Poland          5338.752143     6557.152776     8006.506993\n",
      "             gdpPercap_1962  gdpPercap_1967  gdpPercap_1972\n",
      "country                                                    \n",
      "Italy                   NaN     10022.40131     12269.27378\n",
      "Montenegro              NaN             NaN             NaN\n",
      "Netherlands     12790.84956     15363.25136     18794.74567\n",
      "Norway          13450.40151     16361.87647     18965.05551\n",
      "Poland                  NaN             NaN             NaN\n",
      "       gdpPercap_1962  gdpPercap_1967  gdpPercap_1972\n",
      "count        2.000000        3.000000        3.000000\n",
      "mean     13120.625535    13915.843047    16676.358320\n",
      "std        466.373656     3408.589070     3817.597015\n",
      "min      12790.849560    10022.401310    12269.273780\n",
      "25%      12955.737547    12692.826335    15532.009725\n",
      "50%      13120.625535    15363.251360    18794.745670\n",
      "75%      13285.513523    15862.563915    18879.900590\n",
      "max      13450.401510    16361.876470    18965.055510\n"
     ]
    }
   ],
   "source": [
    "# Use a subset of data to keep output readable - as previous cell but defining as a subset variable\n",
    "subset = data.loc['Italy':'Poland','gdpPercap_1962':'gdpPercap_1972']\n",
    "print('Subset of data:\\n', subset)    #\\n is new line\n",
    "\n",
    "#which values were greater than 10,000\n",
    "#print('\\nWhere are values large?\\n', subset > 10000)    \n",
    "\n",
    "#boolean mask - get rid of what you don't want and keep what you want  \n",
    "                #& convert the trues and falses to numbers and NaN relevant to the mask definition\n",
    "                # thus we commented out the previous print statement\n",
    "mask = subset > 10000\n",
    "print(subset[mask])\n",
    "\n",
    "print(subset[subset > 10000].describe())  #as above but this time describing the data"
   ]
  },
  {
   "cell_type": "code",
   "execution_count": 70,
   "metadata": {},
   "outputs": [
    {
     "data": {
      "text/plain": [
       "Text(0,0.5,'Doubles')"
      ]
     },
     "execution_count": 70,
     "metadata": {},
     "output_type": "execute_result"
    },
    {
     "data": {
      "image/png": "[encoded data removed]",
      "text/plain": [
       "<matplotlib.figure.Figure at 0x7f9a39feadd8>"
      ]
     },
     "metadata": {},
     "output_type": "display_data"
    }
   ],
   "source": [
    "%matplotlib inline   \n",
    "#(this comment on the lext line because this isn't python) plotting inline in the jupyter (only for jupyter, allowing to display.. no need to import, because jupyter is parsing this, not python)\n",
    "\n",
    "import matplotlib.pyplot as plt\n",
    "\n",
    "x = [1,2,3,4,5]\n",
    "y = [2,4,6,8,10]\n",
    "\n",
    "plt.plot(x,y)\n",
    "plt.xlabel('Numbers')\n",
    "plt.ylabel('Doubles')\n"
   ]
  },
  {
   "cell_type": "code",
   "execution_count": 71,
   "metadata": {},
   "outputs": [
    {
     "data": {
      "text/plain": [
       "(array([ -2.,   0.,   2.,   4.,   6.,   8.,  10.,  12.]),\n",
       " <a list of 8 Text xticklabel objects>)"
      ]
     },
     "execution_count": 71,
     "metadata": {},
     "output_type": "execute_result"
    },
    {
     "data": {
      "image/png": "[encoded data removed]",
      "text/plain": [
       "<matplotlib.figure.Figure at 0x7f9a3531b1d0>"
      ]
     },
     "metadata": {},
     "output_type": "display_data"
    }
   ],
   "source": [
    "import pandas as pd\n",
    "\n",
    "data = pd.read_csv('data/gapminder_gdp_oceania.csv', index_col='country')\n",
    "data.loc['Australia'].plot()\n",
    "plt.xticks(rotation=90)\n"
   ]
  },
  {
   "cell_type": "code",
   "execution_count": 72,
   "metadata": {},
   "outputs": [
    {
     "data": {
      "text/plain": [
       "(array([ -2.,   0.,   2.,   4.,   6.,   8.,  10.,  12.]),\n",
       " <a list of 8 Text xticklabel objects>)"
      ]
     },
     "execution_count": 72,
     "metadata": {},
     "output_type": "execute_result"
    },
    {
     "data": {
      "image/png": "[encoded data removed]",
      "text/plain": [
       "<matplotlib.figure.Figure at 0x7f9a352d6908>"
      ]
     },
     "metadata": {},
     "output_type": "display_data"
    }
   ],
   "source": [
    "data.T.plot()  \n",
    "plt.ylabel('Gdp per capita')\n",
    "plt.xticks(rotation=75)"
   ]
  },
  {
   "cell_type": "code",
   "execution_count": 74,
   "metadata": {},
   "outputs": [
    {
     "data": {
      "text/plain": [
       "Text(0,0.5,'Gdp per capita')"
      ]
     },
     "execution_count": 74,
     "metadata": {},
     "output_type": "execute_result"
    },
    {
     "data": {
      "image/png": "[encoded data removed]",
      "text/plain": [
       "<matplotlib.figure.Figure at 0x7f9a351fa390>"
      ]
     },
     "metadata": {},
     "output_type": "display_data"
    }
   ],
   "source": [
    "#pandas actually has the plotting functions built in so no need to define matplotlib\n",
    "\n",
    "plt.style.use('ggplot')\n",
    "data.T.plot(kind='bar')\n",
    "plt.xticks(rotation=60)\n",
    "plt.ylabel('Gdp per capita')\n"
   ]
  },
  {
   "cell_type": "code",
   "execution_count": null,
   "metadata": {},
   "outputs": [],
   "source": []
  }
 ],
 "metadata": {
  "kernelspec": {
   "display_name": "Python 3",
   "language": "python",
   "name": "python3"
  },
  "language_info": {
   "codemirror_mode": {
    "name": "ipython",
    "version": 3
   },
   "file_extension": ".py",
   "mimetype": "text/x-python",
   "name": "python",
   "nbconvert_exporter": "python",
   "pygments_lexer": "ipython3",
   "version": "3.5.3"
  }
 },
 "nbformat": 4,
 "nbformat_minor": 2
}
